{
 "cells": [
  {
   "cell_type": "code",
   "execution_count": 1,
   "metadata": {},
   "outputs": [],
   "source": [
    "import fitz\n",
    "import re\n",
    "import json\n",
    "import os"
   ]
  },
  {
   "cell_type": "code",
   "execution_count": 24,
   "metadata": {},
   "outputs": [],
   "source": [
    "def cleanText(text):\n",
    "    cleanPattern = (\n",
    "        r\"Direcci\\u00f3n de Seguridad.*?P\\u00e1gina.\\s+\\d+\\s+de\\s+\\d+\\.?\"\n",
    "        r\"|This document is for GBM Internal Use\\.? Total or partial reproduction is prohibited\\.?\")\n",
    "    return re.sub(cleanPattern, \"\", text, flags=re.IGNORECASE | re.DOTALL).strip()"
   ]
  },
  {
   "cell_type": "code",
   "execution_count": 18,
   "metadata": {},
   "outputs": [],
   "source": [
    "def getVulnerabilities(pdfPath, serversToSearch):\n",
    "\n",
    "    pdf = fitz.open(pdfPath)\n",
    "    \n",
    "    # Patrones regex para búsqueda\n",
    "    titlePattern = r\"\\n([^\\n]*\\n[^\\n]*)\\nCVSS\"\n",
    "    criticalityPattern = r\"Criticality\\s+(?:CVSS:[^\\n]+(?:\\n\\d+\\.\\d+)?)?\\s*(Critical|High|Medium|Low)\"\n",
    "    affectedAssetsPattern = r\"Affected Assets\\s+([\\s\\S]*?)\\nDescription\"\n",
    "    descriptionPattern = r\"Description\\s+([\\s\\S]*?)\\nRecommendation\"\n",
    "    recommendationPattern = r\"Recommendation\\s+([\\s\\S]*?)\\nLinks\"\n",
    "    descriptionPatternAux = r\"Description\\s+([\\s\\S]*)\"\n",
    "    linksPatternAux = \"([\\\\s\\\\S]*)\\nLinks\"\n",
    "    \n",
    "    startPage = 10\n",
    "    targetPage = 0 #Ocupado cuando la descripción tiene más de una página\n",
    "    data = {} #Diccionario para creación de json\n",
    "    vulnerabilityNumber = 1\n",
    "    \n",
    "    for pageNumber in range(startPage, pdf.page_count):\n",
    "\n",
    "        #Saltar las páginas hasta el target asignado\n",
    "        if pageNumber < targetPage:\n",
    "            continue\n",
    "    \n",
    "        page = pdf.load_page(pageNumber)\n",
    "        text = page.get_text()\n",
    "\n",
    "\n",
    "        if any(server.lower() in text.lower() for server in serversToSearch):\n",
    "            titleMatch = re.search(titlePattern, text, re.DOTALL)\n",
    "            title = cleanText(titleMatch.group(1).strip()) if titleMatch else None\n",
    "    \n",
    "            criticalityMatch = re.search(criticalityPattern, text, re.DOTALL)\n",
    "            criticality = criticalityMatch.group(1).strip() if criticalityMatch else None\n",
    "    \n",
    "            affectedAssetsMatch = re.search(affectedAssetsPattern, text, re.DOTALL)\n",
    "            affectedAssets = affectedAssetsMatch.group(1).strip() if affectedAssetsMatch else None\n",
    "            \n",
    "            #Hay descripciones que se encuentran en más de una página, por lo tanto se debe buscar en las siguientes hasta que se encuente la información de links\n",
    "            \n",
    "            descriptionMatch = re.search(descriptionPatternAux, text, re.DOTALL)\n",
    "            textAux = \"Description\\n\" + descriptionMatch.group(1).strip() if descriptionMatch else None\n",
    "    \n",
    "            if descriptionMatch:\n",
    "                for pageNumberAux in range(pageNumber+1, pdf.page_count):\n",
    "                    page = pdf.load_page(pageNumberAux)\n",
    "                    text = page.get_text()\n",
    "            \n",
    "                    linksMatch = re.search(linksPatternAux, text, re.DOTALL)\n",
    "                    if linksMatch:\n",
    "                        textAux += \"\\n\" + linksMatch.group(1).strip() + \"\\nLinks\"\n",
    "                        break\n",
    "                    else:\n",
    "                        textAux += \"\\n\" + text\n",
    "                \n",
    "                descriptionMatch = re.search(descriptionPattern, textAux, re.DOTALL)\n",
    "                description = cleanText(descriptionMatch.group(1).strip()) if descriptionMatch else None\n",
    "    \n",
    "                recommendationMatch = re.search(recommendationPattern, textAux, re.DOTALL)\n",
    "                recommendation = cleanText(recommendationMatch.group(1).strip()) if recommendationMatch else None\n",
    "    \n",
    "                data[f\"Vulnerability{vulnerabilityNumber}\"] = {\n",
    "                    \"Page\" : f\"{pageNumber+1}\",\n",
    "                    \"Title\": f\"{title}\",\n",
    "                    \"Criticality\": f\"{criticality}\",\n",
    "                    \"AffectedAssets\": f\"{affectedAssets}\",\n",
    "                    \"Description\": f\"{description}\",\n",
    "                    \"Recommendation\": f\"{recommendation}\"\n",
    "                }\n",
    "    \n",
    "                vulnerabilityNumber += 1\n",
    "                targetPage = pageNumberAux\n",
    "    \n",
    "    with open(f\"{os.path.dirname(pdfPath)}/{os.path.splitext(os.path.basename(pdfPath))[0]}.json\", \"w\") as file:\n",
    "        json.dump(data, file, indent=4)\n",
    "        print(\"Documento generado\")"
   ]
  },
  {
   "cell_type": "code",
   "execution_count": 25,
   "metadata": {},
   "outputs": [
    {
     "name": "stdout",
     "output_type": "stream",
     "text": [
      "Documento generado\n"
     ]
    }
   ],
   "source": [
    "# pdfPath = \"C:/Users/43263/Documents/Python/Enero2025PRB/InfraSec-EscaneoMensual_SPEI_Enero2025.pdf\"\n",
    "pdfPath = \"C:/Users/43263/Documents/Python/Enero2025PRB/InfraSec-EscaneoMensual_Canales_Electrónicos_Enero2025.pdf\"\n",
    "# pdfPath = \"C:/Users/43263/Documents/Python/Enero2025PRB/InfraSec-EscaneoMensual_SWIFT_Enero2025.pdf\"\n",
    "# serversToSearch = [\"GBMSWIFT01\", \"GBMSWIFTAC01\", \"GBMDBSWIFT01\"]\n",
    "# serversToSearch = [\"GBMSPEIDRIVE3\", \"GBMSPEIDRIVE\"]\n",
    "serversToSearch = [\"AWCLEARINGS\"]\n",
    "getVulnerabilities(pdfPath, serversToSearch)"
   ]
  }
 ],
 "metadata": {
  "kernelspec": {
   "display_name": "Python 3 (ipykernel)",
   "language": "python",
   "name": "python3"
  },
  "language_info": {
   "codemirror_mode": {
    "name": "ipython",
    "version": 3
   },
   "file_extension": ".py",
   "mimetype": "text/x-python",
   "name": "python",
   "nbconvert_exporter": "python",
   "pygments_lexer": "ipython3",
   "version": "3.12.8"
  }
 },
 "nbformat": 4,
 "nbformat_minor": 2
}
